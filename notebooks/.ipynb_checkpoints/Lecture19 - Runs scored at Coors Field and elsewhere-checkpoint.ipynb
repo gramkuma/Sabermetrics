{
 "cells": [
  {
   "cell_type": "markdown",
   "metadata": {},
   "source": [
    "# Lecture 19: Scoring runs at Coors Field\n",
    "***\n",
    "\n",
    "In this notebook, we'll work on comparing runs scored at different ballparks and times by comparing the distributions of the data.\n",
    "\n",
    "Start by loading Numpy and Pandas using their common aliases, np and pd. "
   ]
  },
  {
   "cell_type": "code",
   "execution_count": 2,
   "metadata": {},
   "outputs": [
    {
     "data": {
      "text/html": [
       "<div>\n",
       "<table border=\"1\" class=\"dataframe\">\n",
       "  <thead>\n",
       "    <tr style=\"text-align: right;\">\n",
       "      <th></th>\n",
       "      <th>game_id</th>\n",
       "      <th>year_id</th>\n",
       "      <th>game_dt</th>\n",
       "      <th>homeTeam</th>\n",
       "      <th>awayTeam</th>\n",
       "      <th>ballpark</th>\n",
       "      <th>awayScore</th>\n",
       "      <th>homeScore</th>\n",
       "      <th>totalRuns</th>\n",
       "    </tr>\n",
       "  </thead>\n",
       "  <tbody>\n",
       "    <tr>\n",
       "      <th>0</th>\n",
       "      <td>ANA200004030</td>\n",
       "      <td>2000</td>\n",
       "      <td>403</td>\n",
       "      <td>ANA</td>\n",
       "      <td>NYA</td>\n",
       "      <td>ANA01</td>\n",
       "      <td>3</td>\n",
       "      <td>2</td>\n",
       "      <td>5</td>\n",
       "    </tr>\n",
       "    <tr>\n",
       "      <th>1</th>\n",
       "      <td>ANA200004040</td>\n",
       "      <td>2000</td>\n",
       "      <td>404</td>\n",
       "      <td>ANA</td>\n",
       "      <td>NYA</td>\n",
       "      <td>ANA01</td>\n",
       "      <td>5</td>\n",
       "      <td>3</td>\n",
       "      <td>8</td>\n",
       "    </tr>\n",
       "    <tr>\n",
       "      <th>2</th>\n",
       "      <td>ANA200004050</td>\n",
       "      <td>2000</td>\n",
       "      <td>405</td>\n",
       "      <td>ANA</td>\n",
       "      <td>NYA</td>\n",
       "      <td>ANA01</td>\n",
       "      <td>6</td>\n",
       "      <td>12</td>\n",
       "      <td>18</td>\n",
       "    </tr>\n",
       "    <tr>\n",
       "      <th>3</th>\n",
       "      <td>ANA200004070</td>\n",
       "      <td>2000</td>\n",
       "      <td>407</td>\n",
       "      <td>ANA</td>\n",
       "      <td>BOS</td>\n",
       "      <td>ANA01</td>\n",
       "      <td>3</td>\n",
       "      <td>7</td>\n",
       "      <td>10</td>\n",
       "    </tr>\n",
       "    <tr>\n",
       "      <th>4</th>\n",
       "      <td>ANA200004080</td>\n",
       "      <td>2000</td>\n",
       "      <td>408</td>\n",
       "      <td>ANA</td>\n",
       "      <td>BOS</td>\n",
       "      <td>ANA01</td>\n",
       "      <td>5</td>\n",
       "      <td>7</td>\n",
       "      <td>12</td>\n",
       "    </tr>\n",
       "  </tbody>\n",
       "</table>\n",
       "</div>"
      ],
      "text/plain": [
       "        game_id  year_id  game_dt homeTeam awayTeam ballpark  awayScore  \\\n",
       "0  ANA200004030     2000      403      ANA      NYA    ANA01          3   \n",
       "1  ANA200004040     2000      404      ANA      NYA    ANA01          5   \n",
       "2  ANA200004050     2000      405      ANA      NYA    ANA01          6   \n",
       "3  ANA200004070     2000      407      ANA      BOS    ANA01          3   \n",
       "4  ANA200004080     2000      408      ANA      BOS    ANA01          5   \n",
       "\n",
       "   homeScore  totalRuns  \n",
       "0          2          5  \n",
       "1          3          8  \n",
       "2         12         18  \n",
       "3          7         10  \n",
       "4          7         12  "
      ]
     },
     "execution_count": 2,
     "metadata": {},
     "output_type": "execute_result"
    }
   ],
   "source": [
    "import numpy as np \n",
    "import pandas as pd\n",
    "import matplotlib.pylab as plt\n",
    "%matplotlib inline\n",
    "\n",
    "local_path = 'data/runsForLeagueAndCoorsField2000.csv'\n",
    "\n",
    "# Select the path that works for you \n",
    "file_path = local_path \n",
    "\n",
    "# Load the data into a DataFrame \n",
    "dfTW= pd.read_csv(file_path)\n",
    "\n",
    "# Inspect some of the data\n",
    "dfTW.head()"
   ]
  },
  {
   "cell_type": "markdown",
   "metadata": {},
   "source": [
    "The run total for all games between 2000-2009 are in a file called runsForLeagueAndCoorsField2000.csv, is on Moodle.\n",
    "We can load the data into a Pandas DataFrame using read_csv( ). You may need to change the file_path variable to point to the correct location. If you want 2000-2013 data, you can combine the data frames from that file and runForLeagueAndCoorsField.csv"
   ]
  },
  {
   "cell_type": "markdown",
   "metadata": {},
   "source": [
    "The data has columns for: \n",
    "\n",
    "- **gameID**: Retrosheet game identifier \n",
    "- **yearID**: Year \n",
    "- **game_dt**: Year, month, day the game was played\n",
    "- **homeTeam**: Home team ID\n",
    "- **awayTeam**: Away team ID\n",
    "- **ballpark**: Ballpark ID where game was played\n",
    "- **awayScore**: Runs scored by away team\n",
    "- **homeScore**: Runs score by home team\n",
    "- **totalRuns**: Total runs scored in the game"
   ]
  },
  {
   "cell_type": "markdown",
   "metadata": {},
   "source": [
    "### Exercise 1 - Testing for steroids\n",
    "***\n",
    "MLB instituted steroid testing in 2003. Did it have a measurable effect on offense? Calculate the descriptive statistics for 2000-2003 and 2004-2009. I've already plotted the results here. Is there a difference?"
   ]
  },
  {
   "cell_type": "code",
   "execution_count": null,
   "metadata": {
    "collapsed": true
   },
   "outputs": [],
   "source": []
  },
  {
   "cell_type": "markdown",
   "metadata": {},
   "source": [
    "Comments go here:\n"
   ]
  },
  {
   "cell_type": "code",
   "execution_count": 4,
   "metadata": {},
   "outputs": [
    {
     "data": {
      "image/png": "[encoded data removed]",
      "text/plain": [
       "<matplotlib.figure.Figure at 0x1168e1400>"
      ]
     },
     "metadata": {},
     "output_type": "display_data"
    }
   ],
   "source": [
    "# Initialize figure subplots\n",
    "fig, ax = plt.subplots(nrows=1, ncols=2, figsize=(12,8))\n",
    "\n",
    "# --------------------------------------\n",
    "# Plot histogram for 2000-2003 distribution \n",
    "# --------------------------------------\n",
    "df2000 = dfTW.loc[dfTW[\"year_id\"] < 2004].copy()\n",
    "\n",
    "df2000.hist(column = \"totalRuns\", ax=ax[0], facecolor=\"steelblue\", edgecolor=\"white\")\n",
    "                                                      \n",
    "# Add titles and labels \n",
    "ax[0].set_title(\"2000-2003 Runs\", fontsize=20)\n",
    "ax[0].set_xlabel(\"Runs\", fontsize=16)\n",
    "ax[0].set_ylabel(\"Frequency\", fontsize=16)\n",
    "\n",
    "# Make grid lighter and set behind data\n",
    "ax[0].grid(alpha=0.25)\n",
    "ax[0].set_axisbelow(True)\n",
    "\n",
    "df2004 = dfTW.loc[dfTW[\"year_id\"] >= 2004].copy()\n",
    "dfTW.hist(column = \"totalRuns\", ax=ax[1], facecolor=\"steelblue\", edgecolor=\"white\")\n",
    "                                                      \n",
    "# Add titles and labels \n",
    "ax[1].set_title(\"2004-2009 Runs\", fontsize=20)\n",
    "ax[1].set_xlabel(\"totalRuns\", fontsize=16)\n",
    "ax[1].set_ylabel(\"Frequency\", fontsize=16)\n",
    "\n",
    "# Make grid lighter and set behind data\n",
    "ax[1].grid(alpha=0.25)\n",
    "ax[1].set_axisbelow(True)\n"
   ]
  },
  {
   "cell_type": "markdown",
   "metadata": {},
   "source": [
    "### Exercise 2\n",
    "***\n",
    "Run a t-test between the two data sets using the python stats.ttest_ind function. Set equal_var = False. What does the t-test tell you about the data?"
   ]
  },
  {
   "cell_type": "code",
   "execution_count": null,
   "metadata": {},
   "outputs": [],
   "source": []
  },
  {
   "cell_type": "markdown",
   "metadata": {},
   "source": [
    "### Exercise 3\n",
    "***\n",
    "The previous t-test may have concluded that the data was not drawn from the same distribution. Is that enough? What happens if you compare the 2004-2009 data to the 2010-2013 data. Is there a statistically significant difference? \n",
    "\n",
    "After you've done that, compare any couple of years, or any individual years. What can you conclude?"
   ]
  },
  {
   "cell_type": "code",
   "execution_count": 12,
   "metadata": {},
   "outputs": [
    {
     "data": {
      "text/html": [
       "<div>\n",
       "<table border=\"1\" class=\"dataframe\">\n",
       "  <thead>\n",
       "    <tr style=\"text-align: right;\">\n",
       "      <th></th>\n",
       "      <th>game_id</th>\n",
       "      <th>year_id</th>\n",
       "      <th>game_dt</th>\n",
       "      <th>homeTeam</th>\n",
       "      <th>awayTeam</th>\n",
       "      <th>ballpark</th>\n",
       "      <th>awayScore</th>\n",
       "      <th>homeScore</th>\n",
       "      <th>totalRuns</th>\n",
       "    </tr>\n",
       "  </thead>\n",
       "  <tbody>\n",
       "    <tr>\n",
       "      <th>0</th>\n",
       "      <td>ANA201004050</td>\n",
       "      <td>2010</td>\n",
       "      <td>100405</td>\n",
       "      <td>ANA</td>\n",
       "      <td>MIN</td>\n",
       "      <td>ANA01</td>\n",
       "      <td>3</td>\n",
       "      <td>6</td>\n",
       "      <td>9</td>\n",
       "    </tr>\n",
       "    <tr>\n",
       "      <th>1</th>\n",
       "      <td>ANA201004060</td>\n",
       "      <td>2010</td>\n",
       "      <td>100406</td>\n",
       "      <td>ANA</td>\n",
       "      <td>MIN</td>\n",
       "      <td>ANA01</td>\n",
       "      <td>5</td>\n",
       "      <td>3</td>\n",
       "      <td>8</td>\n",
       "    </tr>\n",
       "    <tr>\n",
       "      <th>2</th>\n",
       "      <td>ANA201004070</td>\n",
       "      <td>2010</td>\n",
       "      <td>100407</td>\n",
       "      <td>ANA</td>\n",
       "      <td>MIN</td>\n",
       "      <td>ANA01</td>\n",
       "      <td>4</td>\n",
       "      <td>2</td>\n",
       "      <td>6</td>\n",
       "    </tr>\n",
       "    <tr>\n",
       "      <th>3</th>\n",
       "      <td>ANA201004080</td>\n",
       "      <td>2010</td>\n",
       "      <td>100408</td>\n",
       "      <td>ANA</td>\n",
       "      <td>MIN</td>\n",
       "      <td>ANA01</td>\n",
       "      <td>10</td>\n",
       "      <td>1</td>\n",
       "      <td>11</td>\n",
       "    </tr>\n",
       "    <tr>\n",
       "      <th>4</th>\n",
       "      <td>ANA201004090</td>\n",
       "      <td>2010</td>\n",
       "      <td>100409</td>\n",
       "      <td>ANA</td>\n",
       "      <td>OAK</td>\n",
       "      <td>ANA01</td>\n",
       "      <td>10</td>\n",
       "      <td>4</td>\n",
       "      <td>14</td>\n",
       "    </tr>\n",
       "  </tbody>\n",
       "</table>\n",
       "</div>"
      ],
      "text/plain": [
       "        game_id  year_id  game_dt homeTeam awayTeam ballpark  awayScore  \\\n",
       "0  ANA201004050     2010   100405      ANA      MIN    ANA01          3   \n",
       "1  ANA201004060     2010   100406      ANA      MIN    ANA01          5   \n",
       "2  ANA201004070     2010   100407      ANA      MIN    ANA01          4   \n",
       "3  ANA201004080     2010   100408      ANA      MIN    ANA01         10   \n",
       "4  ANA201004090     2010   100409      ANA      OAK    ANA01         10   \n",
       "\n",
       "   homeScore  totalRuns  \n",
       "0          6          9  \n",
       "1          3          8  \n",
       "2          2          6  \n",
       "3          1         11  \n",
       "4          4         14  "
      ]
     },
     "execution_count": 12,
     "metadata": {},
     "output_type": "execute_result"
    }
   ],
   "source": [
    "local_path = 'data/runsForLeagueAndCoorsField.csv'\n",
    "\n",
    "# Select the path that works for you \n",
    "file_path = local_path \n",
    "\n",
    "# Load the data into a DataFrame \n",
    "df2010= pd.read_csv(file_path)\n",
    "\n",
    "# Inspect some of the data\n",
    "df2010.head()"
   ]
  },
  {
   "cell_type": "code",
   "execution_count": null,
   "metadata": {},
   "outputs": [],
   "source": []
  },
  {
   "cell_type": "markdown",
   "metadata": {},
   "source": [
    "## Distributions - characterizing the data\n",
    "The t-test is assuming that the underlying distribution is normal. But, what do we do if it isn't? Let's start by plotting the data for 2000-2003 and 2004-2009 and drawing the normal curve over the histogram.\n",
    "\n",
    "### Do both distributions look normal?"
   ]
  },
  {
   "cell_type": "code",
   "execution_count": 22,
   "metadata": {},
   "outputs": [
    {
     "data": {
      "image/png": "[encoded data removed]",
      "text/plain": [
       "<matplotlib.figure.Figure at 0x11c36c710>"
      ]
     },
     "metadata": {},
     "output_type": "display_data"
    }
   ],
   "source": [
    "from scipy.stats import norm\n",
    "\n",
    "fig, ax = plt.subplots(nrows=1, ncols=2, figsize=(10,4))\n",
    "df2000.hist(column=\"totalRuns\", bins = 15, ax=ax[0], facecolor=\"steelblue\", normed=True, edgecolor=\"white\")\n",
    "#pd.Series(u).hist(ax=ax, bins=20, color=\"steelblue\", normed=True, edgecolor=\"white\")\n",
    "ax[0].grid(alpha=0.25)\n",
    "ax[0].set_axisbelow(True)\n",
    "ax[0].set_title(\"Total runs league 2000-2003\", fontsize=20)\n",
    "ax[0].set_xlabel(\"Runs\", fontsize=16)\n",
    "ax[0].set_ylabel(\"Frequency\", fontsize=16)\n",
    "\n",
    "#plt.xticks(range(-10,10+1));\n",
    "#ax.set_xlim([-10,10])\n",
    "#ax.set_ylim([0,.5])\n",
    "minRuns = df2000[\"totalRuns\"].min()\n",
    "maxRuns = df2000[\"totalRuns\"].max()\n",
    "x = np.linspace(minRuns,maxRuns,500)\n",
    "mean = df2000[\"totalRuns\"].mean()\n",
    "std = df2000[\"totalRuns\"].std()\n",
    "\n",
    "f = norm.pdf(x, mean, std)\n",
    "ax[0].plot(x,f,color=\"green\");\n",
    "\n",
    "df2004.hist(column = \"totalRuns\", bins = 15, ax=ax[1], normed = True, facecolor=\"steelblue\", edgecolor=\"white\")\n",
    "                                                      \n",
    "# Add titles and labels \n",
    "ax[1].set_title(\"Total runs league 2004-2009\", fontsize=20)\n",
    "ax[1].set_xlabel(\"Runs\", fontsize=16)\n",
    "ax[1].set_ylabel(\"Frequency\", fontsize=16)\n",
    "minRuns = df2004[\"totalRuns\"].min()\n",
    "maxRuns = df2004[\"totalRuns\"].max()\n",
    "x = np.linspace(minRuns,maxRuns,500)\n",
    "mean = df2004[\"totalRuns\"].mean()\n",
    "std = df2004[\"totalRuns\"].std()\n",
    "\n",
    "f = norm.pdf(x, mean, std)\n",
    "ax[1].plot(x,f,color=\"green\");\n",
    "\n",
    "\n",
    "# Make grid lighter and set behind data\n",
    "ax[1].grid(alpha=0.25)\n",
    "ax[1].set_axisbelow(True)\n",
    "\n",
    "\n",
    "#Maybe it's skew normal - skewnorm in scipy"
   ]
  },
  {
   "cell_type": "markdown",
   "metadata": {},
   "source": [
    "## Kolmogorov-Smirnov test\n",
    "There is another test called the Kolmogorov-Smirnoff (KS) test that can be used to compare a data set to a reference distribution, and calculate the that the underlying distribution of the data matches the reference. The KS test can also be used to compare whether two data sets are drawn from the same distribution.\n",
    "\n",
    "We can use the KS test to characterize the distribution of our data.\n",
    "\n",
    "The KS test quantifies a distance between the distribution of observed data and a reference distribution by computing the maximum difference (D) between the cumulative distribution function of the data and that of the reference distribution. \n",
    "\n",
    "The null hypothesis that the sample is drawn from the reference distribution (in the one-sample case) or that the samples are drawn from the same distribution (in the two-sample case).\n",
    "\n",
    "The syntax is that the first argument to kstest is the data set, and the second and third arguments are the the cumulative distribution function and the parameters of the distribution. kstest returns two values - D, and the p-value, which is the probability that, if the data had actually been drawn from the proposed CDF, the resulting value of D would have been as large or larger than the one we measured.\n",
    "\n",
    "### Probability Density Function (PDF)\n",
    "Probability of a random variable falling within a particular range of values. $Pr[a \\leq X \\leq b]$.\n",
    "\n",
    "### Cumulative Density Function (CDF)\n",
    "Probability that a random variable takes on a value less than or equal to x. $Pr[X \\leq x]$\n",
    "\n",
    "### Generate a normal distribution of random numbers"
   ]
  },
  {
   "cell_type": "code",
   "execution_count": 38,
   "metadata": {},
   "outputs": [
    {
     "data": {
      "image/png": "[encoded data removed]",
      "text/plain": [
       "<matplotlib.figure.Figure at 0x11c4ff2b0>"
      ]
     },
     "metadata": {},
     "output_type": "display_data"
    }
   ],
   "source": [
    "z = np.random.normal(size=14000)\n",
    "fig, ax = plt.subplots(nrows=1, ncols=1, figsize=(10,4))\n",
    "pd.Series(z).hist(ax=ax, bins=20, color=\"steelblue\", normed=True, edgecolor=\"white\")\n",
    "ax.grid(alpha=0.25)\n",
    "ax.set_axisbelow(True)\n",
    "plt.xticks(range(-10,10+1));\n",
    "ax.set_xlim([-10,10])\n",
    "ax.set_ylim([0,.5]);\n",
    "x = np.linspace(-6,6,500)\n",
    "f = norm.pdf(x, 0, 1)\n",
    "ax.plot(x,f,color=\"green\");"
   ]
  },
  {
   "cell_type": "markdown",
   "metadata": {},
   "source": [
    "### Exercise 4\n",
    "Apply the KS test to the distribution you just generated to verify that the KS test works as expected. Explain what the results mean."
   ]
  },
  {
   "cell_type": "code",
   "execution_count": 85,
   "metadata": {},
   "outputs": [
    {
     "data": {
      "text/plain": [
       "KstestResult(statistic=0.0054750160030612172, pvalue=0.79539241038773223)"
      ]
     },
     "execution_count": 85,
     "metadata": {},
     "output_type": "execute_result"
    }
   ],
   "source": [
    "distribution = \"norm\"\n",
    "distr = getattr(stats, distribution)\n",
    "params = distr.fit(z)\n",
    "\n",
    "stats.kstest(z,distribution,args=params)"
   ]
  },
  {
   "cell_type": "markdown",
   "metadata": {},
   "source": [
    "### Exercise 5\n",
    "Generate another distribution and run the KS test on the distribution."
   ]
  },
  {
   "cell_type": "code",
   "execution_count": null,
   "metadata": {},
   "outputs": [],
   "source": []
  },
  {
   "cell_type": "markdown",
   "metadata": {},
   "source": [
    "### Exercise 6\n",
    "Run the KS test on a totalRuns data set using the normal distribution with the mean and std of totalRuns."
   ]
  },
  {
   "cell_type": "code",
   "execution_count": null,
   "metadata": {},
   "outputs": [],
   "source": []
  },
  {
   "cell_type": "markdown",
   "metadata": {},
   "source": [
    "### Exercise 7\n",
    "Ask another question about data distributions, either by years or ballparks, or maybe a diff"
   ]
  },
  {
   "cell_type": "code",
   "execution_count": null,
   "metadata": {
    "collapsed": true
   },
   "outputs": [],
   "source": []
  }
 ],
 "metadata": {
  "kernelspec": {
   "display_name": "CSCI_3022",
   "language": "python",
   "name": "csci_3022"
  },
  "language_info": {
   "codemirror_mode": {
    "name": "ipython",
    "version": 3
   },
   "file_extension": ".py",
   "mimetype": "text/x-python",
   "name": "python",
   "nbconvert_exporter": "python",
   "pygments_lexer": "ipython3",
   "version": "3.5.1"
  }
 },
 "nbformat": 4,
 "nbformat_minor": 2
}
