{
 "cells": [
  {
   "cell_type": "markdown",
   "metadata": {},
   "source": [
    "# An Analysis of Fielding in Baseball\n",
    "-----------------------------------------------------------"
   ]
  },
  {
   "cell_type": "markdown",
   "metadata": {},
   "source": [
    "Currently, the metric that is looked at the most when considering fielding in baseball is fielding percentage. While the FP gives a generic overview of a player's ability to field balls, it is not a wholly reliable statistic to rate a player."
   ]
  },
  {
   "cell_type": "markdown",
   "metadata": {},
   "source": [
    "The first thing I wanted to consider when making my own test statistic was the lack of double plays, passed balls and wild pitches in the fielding percentage formula which is defined as:\n",
    "\n",
    "$ (Putouts + Assists)/(Putouts + Assists + Errors)$\n",
    "\n",
    "I believe that a fielder's participation in a double play should affect his FP in a positive way since Naively, I wanted to just throw in the variables that I thought were missing into the formula, so it would look something like this:\n",
    "\n",
    "$ (Putouts + Assists + Double Plays)/(Putouts + Assists + Errors + Passed Ball + Wild Pitch)$"
   ]
  },
  {
   "cell_type": "code",
   "execution_count": null,
   "metadata": {},
   "outputs": [],
   "source": []
  }
 ],
 "metadata": {
  "kernelspec": {
   "display_name": "Python 3",
   "language": "python",
   "name": "python3"
  },
  "language_info": {
   "codemirror_mode": {
    "name": "ipython",
    "version": 3
   },
   "file_extension": ".py",
   "mimetype": "text/x-python",
   "name": "python",
   "nbconvert_exporter": "python",
   "pygments_lexer": "ipython3",
   "version": "3.6.4"
  }
 },
 "nbformat": 4,
 "nbformat_minor": 2
}
