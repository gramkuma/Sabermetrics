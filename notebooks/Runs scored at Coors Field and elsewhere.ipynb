{
 "cells": [
  {
   "cell_type": "markdown",
   "metadata": {},
   "source": [
    "# Lecture 18: Comparing runs scored at Coors Field to other parks\n",
    "***\n",
    "\n",
    "We have read that offense is inflated at Coors Field compared to the rest of the major league parks. For your next assignment, you are comparing offensive production of Rockies players at Coors to the performance of other players. Today, we're going examine how we might start to talk about comparing different data sets to determine if there is a difference.\n",
    "\n",
    "I pulled the data for runs scored in all games at all parks in Retrosheet. We can see both home and away data and the final total runs scored for both teams."
   ]
  },
  {
   "cell_type": "code",
   "execution_count": 54,
   "metadata": {},
   "outputs": [
    {
     "data": {
      "text/html": [
       "<div>\n",
       "<table border=\"1\" class=\"dataframe\">\n",
       "  <thead>\n",
       "    <tr style=\"text-align: right;\">\n",
       "      <th></th>\n",
       "      <th>game_id</th>\n",
       "      <th>year_id</th>\n",
       "      <th>game_dt</th>\n",
       "      <th>homeTeam</th>\n",
       "      <th>awayTeam</th>\n",
       "      <th>ballpark</th>\n",
       "      <th>awayScore</th>\n",
       "      <th>homeScore</th>\n",
       "      <th>totalRuns</th>\n",
       "    </tr>\n",
       "  </thead>\n",
       "  <tbody>\n",
       "    <tr>\n",
       "      <th>0</th>\n",
       "      <td>ANA201004050</td>\n",
       "      <td>2010</td>\n",
       "      <td>100405</td>\n",
       "      <td>ANA</td>\n",
       "      <td>MIN</td>\n",
       "      <td>ANA01</td>\n",
       "      <td>3</td>\n",
       "      <td>6</td>\n",
       "      <td>9</td>\n",
       "    </tr>\n",
       "    <tr>\n",
       "      <th>1</th>\n",
       "      <td>ANA201004060</td>\n",
       "      <td>2010</td>\n",
       "      <td>100406</td>\n",
       "      <td>ANA</td>\n",
       "      <td>MIN</td>\n",
       "      <td>ANA01</td>\n",
       "      <td>5</td>\n",
       "      <td>3</td>\n",
       "      <td>8</td>\n",
       "    </tr>\n",
       "    <tr>\n",
       "      <th>2</th>\n",
       "      <td>ANA201004070</td>\n",
       "      <td>2010</td>\n",
       "      <td>100407</td>\n",
       "      <td>ANA</td>\n",
       "      <td>MIN</td>\n",
       "      <td>ANA01</td>\n",
       "      <td>4</td>\n",
       "      <td>2</td>\n",
       "      <td>6</td>\n",
       "    </tr>\n",
       "    <tr>\n",
       "      <th>3</th>\n",
       "      <td>ANA201004080</td>\n",
       "      <td>2010</td>\n",
       "      <td>100408</td>\n",
       "      <td>ANA</td>\n",
       "      <td>MIN</td>\n",
       "      <td>ANA01</td>\n",
       "      <td>10</td>\n",
       "      <td>1</td>\n",
       "      <td>11</td>\n",
       "    </tr>\n",
       "    <tr>\n",
       "      <th>4</th>\n",
       "      <td>ANA201004090</td>\n",
       "      <td>2010</td>\n",
       "      <td>100409</td>\n",
       "      <td>ANA</td>\n",
       "      <td>OAK</td>\n",
       "      <td>ANA01</td>\n",
       "      <td>10</td>\n",
       "      <td>4</td>\n",
       "      <td>14</td>\n",
       "    </tr>\n",
       "  </tbody>\n",
       "</table>\n",
       "</div>"
      ],
      "text/plain": [
       "        game_id  year_id  game_dt homeTeam awayTeam ballpark  awayScore  \\\n",
       "0  ANA201004050     2010   100405      ANA      MIN    ANA01          3   \n",
       "1  ANA201004060     2010   100406      ANA      MIN    ANA01          5   \n",
       "2  ANA201004070     2010   100407      ANA      MIN    ANA01          4   \n",
       "3  ANA201004080     2010   100408      ANA      MIN    ANA01         10   \n",
       "4  ANA201004090     2010   100409      ANA      OAK    ANA01         10   \n",
       "\n",
       "   homeScore  totalRuns  \n",
       "0          6          9  \n",
       "1          3          8  \n",
       "2          2          6  \n",
       "3          1         11  \n",
       "4          4         14  "
      ]
     },
     "execution_count": 54,
     "metadata": {},
     "output_type": "execute_result"
    }
   ],
   "source": [
    "import numpy as np \n",
    "import pandas as pd\n",
    "import matplotlib.pylab as plt\n",
    "%matplotlib inline\n",
    "\n",
    "local_path = 'data/runsForLeagueAndCoorsField.csv'\n",
    "\n",
    "# Select the path that works for you \n",
    "file_path = local_path \n",
    "\n",
    "# Load the data into a DataFrame \n",
    "dfTW= pd.read_csv(file_path)\n",
    "\n",
    "# Inspect some of the data\n",
    "dfTW.head()"
   ]
  },
  {
   "cell_type": "markdown",
   "metadata": {},
   "source": [
    "The data has columns for: \n",
    "\n",
    "- **gameID**: Retrosheet game identifier \n",
    "- **yearID**: Year \n",
    "- **game_dt**: Year, month, day the game was played\n",
    "- **homeTeam**: Home team ID\n",
    "- **awayTeam**: Away team ID\n",
    "- **ballpark**: Ballpark ID where game was played\n",
    "- **awayScore**: Runs scored by away team\n",
    "- **homeScore**: Runs score by home team\n",
    "- **totalRuns**: Total runs scored in the game"
   ]
  },
  {
   "cell_type": "markdown",
   "metadata": {},
   "source": [
    "### Exercise 1\n",
    "***\n",
    "Generate a histogram of the totalRuns scored for all games for the entire league and for games played at Coors Field. What can you say about the skewness, means, std, outliers? Include a qualitative explanation as well."
   ]
  },
  {
   "cell_type": "markdown",
   "metadata": {},
   "source": [
    "Comments go here:\n"
   ]
  },
  {
   "cell_type": "code",
   "execution_count": 55,
   "metadata": {},
   "outputs": [
    {
     "data": {
      "image/png": "[encoded data removed]",
      "text/plain": [
       "<matplotlib.figure.Figure at 0x11f66e940>"
      ]
     },
     "metadata": {},
     "output_type": "display_data"
    }
   ],
   "source": [
    "# Initialize figure subplots\n",
    "fig, ax = plt.subplots(nrows=1, ncols=2, figsize=(8,8))\n",
    "\n",
    "# --------------------------------------\n",
    "# Plot histogram total runs distribution \n",
    "# --------------------------------------\n",
    "dfTW.hist(column=\"totalRuns\", ax=ax[0], facecolor=\"steelblue\", edgecolor=\"white\")\n",
    "                                                      \n",
    "# Add titles and labels \n",
    "ax[0].set_title(\"total runs per game\", fontsize=20)\n",
    "ax[0].set_xlabel(\"runs\", fontsize=16)\n",
    "ax[0].set_ylabel(\"Frequency\", fontsize=16)\n",
    "\n",
    "# Make grid lighter and set behind data\n",
    "ax[0].grid(alpha=0.25)\n",
    "ax[0].set_axisbelow(True)\n",
    "\n",
    "dfCoors = dfTW.loc[dfTW[\"homeTeam\"] == \"COL\"].copy()\n",
    "\n",
    "dfCoors.hist(column = \"totalRuns\", ax=ax[1], facecolor=\"steelblue\", edgecolor=\"white\")\n",
    "                                                      \n",
    "# Add titles and labels \n",
    "ax[1].set_title(\"Coors Field Runs\", fontsize=20)\n",
    "ax[1].set_xlabel(\"runs\", fontsize=16)\n",
    "ax[1].set_ylabel(\"Frequency\", fontsize=16)\n",
    "\n",
    "# Make grid lighter and set behind data\n",
    "ax[1].grid(alpha=0.25)\n",
    "ax[1].set_axisbelow(True)\n",
    "\n"
   ]
  },
  {
   "cell_type": "markdown",
   "metadata": {},
   "source": [
    "## Hypothesis testing\n",
    "***\n",
    "\n",
    "If we want to say that there is a statistically significant difference between the run distribution at Coors Field compared to the run distribution for all ballparks, we first need to generate a hypothesis. \n",
    "\n",
    "In any hypothesis testing problems, we have two hypothesis options:\n",
    " - $h_0$ - the null hypothesis\n",
    " - $h_1$ - an alternate hypothesis\n",
    " \n",
    "The objective of hypothesis testing is to determine if the alternate hypothesis is supported by the provided data. The initially favored claim $h_0$ will not be rejected in favor of the alternate hypothesis $h_1$ unless the data provides sufficient support for $h_1$. \n",
    "\n",
    "**The possible outcomes are**\n",
    "- Reject $h_0$ in favor of $h_1$\n",
    "- Fail to reject $h_0$\n",
    "\n",
    "### T-test\n",
    "\n",
    "One of the simplest tests we can do to compare out data is a t-test. We have two options: \n",
    "\n",
    "- A One Sample T-Test and a Two-sample T-Test. \n",
    "\n",
    "- We use a One Sample T-Test to evaluate the null hypothesis that the mean of a 1D sample dataset of independant observations is equal to the true mean of the population from which the data is sampled. \n",
    "\n",
    "- We use a Two Sample T-Test to evaluate the null hypothesis that the means from two independently sampled datasets (with equal variance) are equal, meaning that the data was sampled from the same population.\n",
    "\n",
    "### T-test output\n",
    "- The t-test will output a ratio of the intergroup difference and the intragroup difference - the difference between the two groups and the difference within the groups. \n",
    "- The larger the t value, the more difference there is between the data groups. \n",
    "- The smaller the t value, the more similarity there is between groups. \n",
    "- For example, a t value of 3 means that the groups are three times as different from each other as they are within the individual group.\n",
    "\n",
    "**Summary**\n",
    "- A large t-score tells you that the groups are different.\n",
    "- A small t-score tells you that the groups are similar.\n",
    "\n",
    "### P-value\n",
    "The t-test also produces a p-value.\n",
    "- p-value is the probability of finding the observed results when the null hypothesis ($H_0$) is true. \n",
    "- You can also think of a p-value as the probability that variations in your sample data occurred by chance. \n",
    "- Low p-values indicate your data did not occur by chance. \n",
    "- For example, a p-value of .01 means there is only a 1% probability that the results from an experiment happened by chance. In most cases, a p-value of 0.05 (5%) is accepted to mean that differences in the data are valid, and the null hypothesis that the populations are the same can be rejected.\n",
    "\n",
    "### Null hypothesis\n",
    "We're comparing run production at Coors Field and the rest of the league. We can formulate our hypothesis by comparing mean run production at Coors Field and the league overall.\n",
    "- $h_0$ is $\\mu_{coors} = \\mu_{league}$\n",
    "\n",
    "### Alternate hypothesis\n",
    "Our alternate hypothesis is that the mean run production at Coors Field is greater than the mean run production for the league.\n",
    "- $h_1$ is $\\mu_{coors} > \\mu_{league}$\n",
    "\n",
    "We could start by just calculating the means and see that the Coors mean is quite a bit higher. In the data, the mean is 10.97, compared to 8.57 for the league overall. But, we need to know if these differences are different enough to be meaningful.\n",
    "\n",
    "- $h_0$ is $\\mu_{coors} = \\mu_{league} = 8.57$\n",
    "- $h_1$ is $\\mu_{coors} > 8.57$\n",
    "\n",
    "**A t-test assumes that you have a normal distribution. You could get invalid results if you run a t-test on non-normal data**\n",
    "\n",
    "### Exercise 2\n",
    "***\n",
    "Apply a two-sample t-test to the league and Coors Field data. What are the results? Does it matter if you change the equal_var parameter. See https://docs.scipy.org/doc/scipy/reference/generated/scipy.stats.ttest_ind.html for information on how to run the t-test in python.\n"
   ]
  },
  {
   "cell_type": "code",
   "execution_count": null,
   "metadata": {},
   "outputs": [],
   "source": []
  },
  {
   "cell_type": "markdown",
   "metadata": {},
   "source": [
    "## Distributions - characterizing the data\n",
    "\n",
    "\n",
    "### Do both distributions look normal?\n",
    "Before we continue with other statistical evaluations, let's pause to look at the data again. I plotted a normal curve over the data histograms, with the same mean and std for each data set, to show how the data compares to a normal distribution.\n",
    "\n",
    "Where does it differ from normal?"
   ]
  },
  {
   "cell_type": "code",
   "execution_count": 58,
   "metadata": {},
   "outputs": [
    {
     "data": {
      "image/png": "[encoded data removed]",
      "text/plain": [
       "<matplotlib.figure.Figure at 0x1201d0be0>"
      ]
     },
     "metadata": {},
     "output_type": "display_data"
    }
   ],
   "source": [
    "from scipy.stats import norm\n",
    "\n",
    "fig, ax = plt.subplots(nrows=1, ncols=2, figsize=(10,4))\n",
    "dfTW.hist(column=\"totalRuns\", bins = 15, ax=ax[0], facecolor=\"steelblue\", normed=True, edgecolor=\"white\")\n",
    "#pd.Series(u).hist(ax=ax, bins=20, color=\"steelblue\", normed=True, edgecolor=\"white\")\n",
    "ax[0].grid(alpha=0.25)\n",
    "ax[0].set_axisbelow(True)\n",
    "ax[0].set_title(\"Total runs league\", fontsize=20)\n",
    "ax[0].set_xlabel(\"Runs\", fontsize=16)\n",
    "ax[0].set_ylabel(\"Frequency\", fontsize=16)\n",
    "\n",
    "#plt.xticks(range(-10,10+1));\n",
    "#ax.set_xlim([-10,10])\n",
    "#ax.set_ylim([0,.5])\n",
    "minRuns = dfTW[\"totalRuns\"].min()\n",
    "maxRuns = dfTW[\"totalRuns\"].max()\n",
    "x = np.linspace(minRuns,maxRuns,500)\n",
    "mean = dfTW[\"totalRuns\"].mean()\n",
    "std = dfTW[\"totalRuns\"].std()\n",
    "\n",
    "f = norm.pdf(x, mean, std)\n",
    "ax[0].plot(x,f,color=\"green\");\n",
    "\n",
    "dfCoors = dfTW.loc[dfTW[\"homeTeam\"] == \"COL\"].copy()\n",
    "\n",
    "dfCoors.hist(column = \"totalRuns\", bins = 15, ax=ax[1], normed = True, facecolor=\"steelblue\", edgecolor=\"white\")\n",
    "                                                      \n",
    "# Add titles and labels \n",
    "ax[1].set_title(\"Coors Field total runs\", fontsize=20)\n",
    "ax[1].set_xlabel(\"Runs\", fontsize=16)\n",
    "ax[1].set_ylabel(\"Frequency\", fontsize=16)\n",
    "minRuns = dfCoors[\"totalRuns\"].min()\n",
    "maxRuns = dfCoors[\"totalRuns\"].max()\n",
    "x = np.linspace(minRuns,maxRuns,500)\n",
    "mean = dfCoors[\"totalRuns\"].mean()\n",
    "std = dfCoors[\"totalRuns\"].std()\n",
    "\n",
    "f = norm.pdf(x, mean, std)\n",
    "ax[1].plot(x,f,color=\"green\");\n",
    "\n",
    "\n",
    "# Make grid lighter and set behind data\n",
    "ax[1].grid(alpha=0.25)\n",
    "ax[1].set_axisbelow(True)\n",
    "\n",
    "\n",
    "#Maybe it's skew normal - skewnorm in scipy"
   ]
  },
  {
   "cell_type": "code",
   "execution_count": null,
   "metadata": {
    "collapsed": true
   },
   "outputs": [],
   "source": []
  },
  {
   "cell_type": "code",
   "execution_count": null,
   "metadata": {
    "collapsed": true
   },
   "outputs": [],
   "source": []
  }
 ],
 "metadata": {
  "kernelspec": {
   "display_name": "CSCI_3022",
   "language": "python",
   "name": "csci_3022"
  },
  "language_info": {
   "codemirror_mode": {
    "name": "ipython",
    "version": 3
   },
   "file_extension": ".py",
   "mimetype": "text/x-python",
   "name": "python",
   "nbconvert_exporter": "python",
   "pygments_lexer": "ipython3",
   "version": "3.5.1"
  }
 },
 "nbformat": 4,
 "nbformat_minor": 2
}
